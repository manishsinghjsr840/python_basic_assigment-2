{
 "cells": [
  {
   "cell_type": "markdown",
   "metadata": {},
   "source": [
    "### Solution of 2nd Assigment"
   ]
  },
  {
   "cell_type": "markdown",
   "metadata": {},
   "source": [
    "#### 1.What are the two values of the Boolean data type? How do you write them?\n",
    "\n",
    "    Two values of boolean data types are 1 and 0\n",
    "    we write them as below:\n",
    "    True for 1\n",
    "    False for 0\n"
   ]
  },
  {
   "cell_type": "markdown",
   "metadata": {},
   "source": [
    "#### 2.What are the three different types of Boolean operators?\n",
    "\n",
    "    Below are 3 different types of Boolean operators \n",
    "    AND , OR , NOT"
   ]
  },
  {
   "cell_type": "markdown",
   "metadata": {},
   "source": [
    "#### 3.Make a list of each Boolean operator's truth tables (i.e. every possible combination of Boolean values for the operator and what it evaluate)\n",
    "\n",
    "\n",
    "    1. Truth value table for AND operator\n",
    "\n",
    "        1. True and True = True\n",
    "        2. False and True = False\n",
    "        3. True and False = False\n",
    "        4. False and False = False\n",
    "\n",
    "    i.e AND is True only if both the values are True\n",
    "\n",
    "    2. Truth value table for OR operator\n",
    "\n",
    "        1. True OR True = True\n",
    "        2. False OR True = True\n",
    "        3. True OR False = True\n",
    "        4. False OR False = False\n",
    "\n",
    "    i.e OR is True only if any one values is True\n",
    "\n",
    "    3. Truth value table for OR operator\n",
    "\n",
    "        1. not(True) = False\n",
    "        2. not(False) = False\n",
    "\n",
    "    i.e NOT is True only if value to which it is applied is False\n",
    "\n",
    "    These are all TRUTH value table for each boolean operator"
   ]
  },
  {
   "cell_type": "markdown",
   "metadata": {},
   "source": [
    "#### 4. What are the values of the following expressions?\n",
    "            Expression                                        Value\n",
    "        (5 > 4) and (3 == 5)                                 False\n",
    "        not (5 > 4)                                          False\n",
    "        (5 > 4) or (3 == 5)                                  True\n",
    "        not ((5 > 4) or (3 == 5))                            False\n",
    "        (True and True) and (True == False)                  False\n",
    "        (not False) or (not True)                            True\n"
   ]
  },
  {
   "cell_type": "markdown",
   "metadata": {},
   "source": [
    "#### 5. What are the six comparison operators?\n",
    "        Six comparison operators are as below\n",
    "    \n",
    "        Operators                               Meaning\n",
    "        1. ==                                    equal to\n",
    "        2. !=                                    not equal to\n",
    "        3. <                                     less than\n",
    "        4. <=                                    less than equal to \n",
    "        5. >                                     greater than\n",
    "        6. >=                                    greater than equal to    "
   ]
  },
  {
   "cell_type": "markdown",
   "metadata": {},
   "source": [
    "#### 6. How do you tell the difference between the equal to and assignment operators?Describe a condition and when you would use one.\n",
    "           \n",
    "           The main difference between both the operators can be seen in representation\n",
    "           equal is used as \" == \" and assignment is used as \" = \"\n",
    "           \n",
    "           The difference between \"equal to\" and \"assignment\" operator is that -- \n",
    "           \n",
    "           Condition/usage\n",
    "           1. \"equal to\" is comparison operator and used to check whether one value is equal another value.\n",
    "           \n",
    "          e.g :     x = 4\n",
    "                    y = 4\n",
    "                    x == y........... here \"==\" is equal to operator and gives us the output in boolean data type i.e True\n",
    "           \n",
    "           2. assignment\n",
    "              It is used to assign a value to a variable\n",
    "          e.g : \n",
    "                    x = 10............... x has assigned value 10\n",
    "                    m = 'mrunal' ........ m has assigned string value 'mrunal'\n",
    "             i.e in the memory the value of x and m is 10 and 'mrunal' respectively"
   ]
  },
  {
   "cell_type": "markdown",
   "metadata": {},
   "source": [
    "#### 7. Identify the three blocks in this code:\n",
    "\n",
    "        spam = 0\n",
    "        if spam == 10:\n",
    "        print('eggs')\n",
    "        if spam > 5:\n",
    "        print('bacon')\n",
    "        else:\n",
    "        print('ham')\n",
    "        print('spam')\n",
    "        print('spam')\n",
    "\n",
    "Answer\n",
    "\n",
    "        Three blocks in the code are if,if and else. Below is code with proper blocks alignment\n",
    "        Three blocks are as follows:\n",
    "        1. If spam == 10 and else.............forms block1\n",
    "        2. If spam > 5 .......................forms block2\n",
    "        3. else ..............................forms block3\n",
    "        \n",
    "        \n",
    "        spam = 0\n",
    "        if spam == 10:           ....block1\n",
    "            print('eggs')\n",
    "        if spam > 5:             ....block2\n",
    "            print('bacon')\n",
    "        else:                    ....block3\n",
    "            print('ham')\n",
    "            print('spam')\n",
    "            print('spam')\n",
    "\n"
   ]
  },
  {
   "cell_type": "code",
   "execution_count": 87,
   "metadata": {},
   "outputs": [
    {
     "name": "stdout",
     "output_type": "stream",
     "text": [
      "Hello\n"
     ]
    }
   ],
   "source": [
    "#### Question number 8 ####\n",
    "\"\"\"8. Write code that prints Hello if 1 is stored in spam, \n",
    "                      prints Howdy if 2 is stored in spam, \n",
    "                  and prints Greetings! if anything else is stored in spam.\"\"\"\n",
    "\n",
    "\n",
    "\n",
    "#spam = int(input(\"Enter a value for spam : \"))\n",
    "spam = 1\n",
    "if spam == 1:\n",
    "    print(\"Hello\")\n",
    "elif spam == 2:\n",
    "    print(\"Howdy\")\n",
    "else:\n",
    "    print(\"Greetings!\")"
   ]
  },
  {
   "cell_type": "markdown",
   "metadata": {},
   "source": [
    "#### 9.If your programme is stuck in an endless loop, what keys you’ll press?\n",
    "\n",
    "            If you got stuck in the loop, then you need to interrupt the kernel\n",
    "            In jupyter notebook you need to press CTRL-C key "
   ]
  },
  {
   "cell_type": "markdown",
   "metadata": {},
   "source": [
    "#### 10.How can you tell the difference between break and continue?\n",
    "\n",
    "        1.Break\n",
    "            Break statement is use to take control out of the loop if certain condition met.\n",
    "           sample code:\n",
    "\n",
    "                        for i in range(0,10):\n",
    "                            if i == 5:\n",
    "                                break\n",
    "                            print(\"This is : \",i)\n",
    "                        print(\"Applied Break on loop when 5 is encoutered\")\n",
    "\n",
    "        2.Continue\n",
    "            Continue statement is used to continue the execution of the current loop if certain condition met.\n",
    "           sample code:\n",
    "\n",
    "                        for i in range(0,10):\n",
    "                            if i == 5:\n",
    "                                continue\n",
    "                            print(\"This is : \",i)\n",
    "                        print(\"Execution continued even after 5 is encoutered- by escaping 5\")"
   ]
  },
  {
   "cell_type": "markdown",
   "metadata": {},
   "source": [
    "#### 11.In a for loop, what is the difference between range(10), range(0, 10), and range(0, 10, 1)?\n",
    "\n",
    "Answer:\n",
    "           \n",
    "           All 3 types of range function written here will work identical in for loop. Lets understand why it is so.\n",
    "           \n",
    "           We know that, the range fuction has 3 attributes:\n",
    "           # range(start, stop, step)\n",
    "               Start: Starting point ....default value is 0 \n",
    "               stop: Stopping point  .... need to specify\n",
    "               step: How many steps we need to take in this journey.....default value is 1\n",
    "            \n",
    "                1. range(10)\n",
    "                Here only stopping point is given so it will take default value of start and step\n",
    "                Travel from 0 to 10 , excluding 10\n",
    "\n",
    "                2. range(0,10)\n",
    "                Here only start and stop point is given so it will take default value of step\n",
    "                Travel from 0 to 10 , excluding 10\n",
    "\n",
    "                2. range(0,10,1)\n",
    "                Here start,stop and step is given \n",
    "                Travel from 0 to 10 , excluding 10, with step of 1\n",
    "            \n",
    "           So in this way all 3 range() will perform same in for loop.\n",
    "        "
   ]
  },
  {
   "cell_type": "markdown",
   "metadata": {},
   "source": [
    "#### 12. Write a short program that prints the numbers 1 to 10 using a for loop. Then write an equivalent program that prints the numbers 1 to 10 using a while loop.\n",
    "\n",
    "        1. Code using for loop\n",
    "        \n",
    "                print(\"Below is sequence of number from 1 to 10...using for loop\")\n",
    "                for i in range(1,11):\n",
    "                    print(i)     \n",
    "                    \n",
    "        2. Code using while loop\n",
    "        \n",
    "                start = 1\n",
    "                stop = 10\n",
    "                print(\"Below is sequence of number from 1 to 10...using while loop\")\n",
    "                while start <= stop:\n",
    "                    print(start)\n",
    "                    start+=1\n"
   ]
  },
  {
   "cell_type": "markdown",
   "metadata": {},
   "source": [
    "#### 13.If you had a function named bacon() inside a module named spam, how would you call it after importing spam?\n",
    "\n",
    "Answer:\n",
    "            \n",
    "          The situation is that, \n",
    "                -We have module named \"spam\"\n",
    "                -In this spam module, we have function named \"bacon()\" \n",
    "                -Below will be the code to use \"bacon()\" fuction from \"spam\" module\n",
    "                            \n",
    "                            import spam\n",
    "                            spam.bacon()\n",
    "                            \n",
    "                "
   ]
  },
  {
   "cell_type": "code",
   "execution_count": null,
   "metadata": {},
   "outputs": [],
   "source": []
  }
 ],
 "metadata": {
  "kernelspec": {
   "display_name": "Python 3",
   "language": "python",
   "name": "python3"
  },
  "language_info": {
   "codemirror_mode": {
    "name": "ipython",
    "version": 3
   },
   "file_extension": ".py",
   "mimetype": "text/x-python",
   "name": "python",
   "nbconvert_exporter": "python",
   "pygments_lexer": "ipython3",
   "version": "3.8.3"
  }
 },
 "nbformat": 4,
 "nbformat_minor": 4
}
